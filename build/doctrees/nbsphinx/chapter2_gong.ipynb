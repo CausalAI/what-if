{
 "cells": [
  {
   "cell_type": "markdown",
   "metadata": {
    "Collapsed": "false",
    "colab_type": "text",
    "id": "wzIzjbb4Tf0y"
   },
   "source": [
    "# Ch2 随机试验"
   ]
  },
  {
   "cell_type": "markdown",
   "metadata": {
    "Collapsed": "false"
   },
   "source": [
    "您抬头仰望天空是否也会使其他行人抬头？这个问题包含任何因果关系问题的主要成分：我们想知道某个动作（您的抬头）是否会影响特定人群（例如，2019年马德里的居民）的结果（其他人的抬头）。 Suppose we challenge you to design a scientific study to answer this question. “Not much of a challenge,” you say after some thought, “I can stand on the sidewalk and flip a coin whenever someone approaches. If heads, I’ll look up; if tails, I’ll look straight ahead. I’ll repeat the experiment a few thousand times. If the proportion of pedestrians who looked up within 10 seconds after I did is greater than the proportion of pedestrians who looked up when I didn’t, I will conclude that my looking up has a causal effect on other people’s looking up. By the way, I may hire an assistant to record what people do while I’m looking up.” After conducting this study, you found that 55% of pedestrians looked up when you looked up but only 1% looked up when you looked straight ahead."
   ]
  },
  {
   "cell_type": "markdown",
   "metadata": {
    "Collapsed": "false"
   },
   "source": [
    "你进行随机实验来回答了抬头仰望星空这个因果问题。 It was an experiment because the investigator (you) carried out the action of interest (looking up), and it was randomized because the decision to act on any study subject (pedestrian) was made by a random device (coin flipping). Not all experiments are randomized. For example, you could have looked up when a man approached and looked straight ahead when a woman did. Then the assignment of the action would have followed a deterministic rule (up for man, straight for woman) rather than a random mechanism. However, your findings would not have been nearly as convincing if you had conducted a non randomized experiment. If your action had been determined by the pedestrian’s sex, critics could argue that the “looking up” behavior of men and women differs (women may look up less often than do men after you look up) and thus your study compared essentially “noncomparable” groups of people. 本章介绍了为什么随机试验能够用于因果推断。 "
   ]
  },
  {
   "cell_type": "markdown",
   "metadata": {
    "Collapsed": "false",
    "colab_type": "text",
    "id": "wzIzjbb4Tf0y"
   },
   "source": [
    "<img src=\"https://i.loli.net/2019/01/08/5c34b16db4fc9.jpg\" alt=\"58211546957120_.pic.jpg\" title=\"58211546957120_.pic.jpg\" />"
   ]
  },
  {
   "cell_type": "markdown",
   "metadata": {
    "Collapsed": "false",
    "colab_type": "text",
    "id": "C5zNt4LyTf03"
   },
   "source": [
    "## 知识要点\n",
    "\n"
   ]
  },
  {
   "cell_type": "markdown",
   "metadata": {
    "Collapsed": "false",
    "colab_type": "text",
    "id": "BgRF-T_rTf00"
   },
   "source": [
    "- Conduct a randomized experiment to identify causal effects.\n",
    "- When the treated and the untreated are exchangeable, we sometimes say that treatment is *exogenous*, and thus exogeneity is commonly used as a synonym for *exchangeability.*\n",
    "- We refer to the method to compute stratum-specific causal effects as **stratification**. If the stratum-specific causal risk ratio differ within different values of $L$, we say the effect of treatment is modified by $L$, or there is a effect modification by $L$. \n",
    "\n",
    "- **Standardization** is a method to compute average causal effect in the entire population with the data from a conditionally randomized experiment.\n",
    "\n",
    "- **Inverse probability weighting**: subjects are sampled with unequal probabilities."
   ]
  }
 ],
 "metadata": {
  "anaconda-cloud": {},
  "colab": {
   "name": "chapter2_gong.ipynb",
   "provenance": []
  },
  "kernelspec": {
   "display_name": "Python 3",
   "language": "python",
   "name": "python3"
  },
  "language_info": {
   "codemirror_mode": {
    "name": "ipython",
    "version": 3
   },
   "file_extension": ".py",
   "mimetype": "text/x-python",
   "name": "python",
   "nbconvert_exporter": "python",
   "pygments_lexer": "ipython3",
   "version": "3.7.4"
  },
  "toc": {
   "base_numbering": 1,
   "nav_menu": {},
   "number_sections": true,
   "sideBar": true,
   "skip_h1_title": false,
   "title_cell": "Table of Contents",
   "title_sidebar": "Contents",
   "toc_cell": false,
   "toc_position": {},
   "toc_section_display": true,
   "toc_window_display": false
  },
  "varInspector": {
   "cols": {
    "lenName": 16,
    "lenType": 16,
    "lenVar": 40
   },
   "kernels_config": {
    "python": {
     "delete_cmd_postfix": "",
     "delete_cmd_prefix": "del ",
     "library": "var_list.py",
     "varRefreshCmd": "print(var_dic_list())"
    },
    "r": {
     "delete_cmd_postfix": ") ",
     "delete_cmd_prefix": "rm(",
     "library": "var_list.r",
     "varRefreshCmd": "cat(var_dic_list()) "
    }
   },
   "types_to_exclude": [
    "module",
    "function",
    "builtin_function_or_method",
    "instance",
    "_Feature"
   ],
   "window_display": false
  }
 },
 "nbformat": 4,
 "nbformat_minor": 4
}
