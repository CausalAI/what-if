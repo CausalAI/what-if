{
 "cells": [
  {
   "cell_type": "markdown",
   "metadata": {
    "Collapsed": "false"
   },
   "source": [
    "# Ch3 观测性研究\n",
    "\n",
    "\n",
    "<img src=\"https://i.loli.net/2019/01/08/5c34b16dbdb58.jpg\" alt=\"58221546957153_.pic.jpg\" title=\"58221546957153_.pic.jpg\" />\n",
    "\n"
   ]
  },
  {
   "cell_type": "markdown",
   "metadata": {
    "Collapsed": "false"
   },
   "source": [
    "## 从仰望天空开始\n",
    "\n",
    "\n",
    "用仰望天空的例子讲清楚章节目录中的每个概念。"
   ]
  },
  {
   "cell_type": "markdown",
   "metadata": {
    "Collapsed": "false"
   },
   "source": [
    "再次提出因果问题“抬头仰望天空是否也会使其他行人抬头吗？”在考虑了上一章中的随机实验后，您得出结论that looking up so many times was too time-consuming and unhealthy for your neck bones. 因此，您决定进行以下研究：找到附近的行人，他们站在拐角处而不抬头。然后找到第二个行人，该行人正朝第一个行人走去，但也不抬头。在接下来的10秒钟内观察并记录他们的行为。重复此过程几千次。现在，您可以比较第二位行人在第一位行人之后抬头仰望的比例，并将其与第二位行人在第一位行人之前抬头仰望的比例进行比较。研究者观察并记录相关数据的科学研究称为 an observational study."
   ]
  },
  {
   "cell_type": "markdown",
   "metadata": {
    "Collapsed": "false"
   },
   "source": [
    "\n",
    "\n",
    "如果您进行了上述观察性研究，那么有人可能会争辩说，两个行人可能都抬起头来，并不是因为第一个行人的抬头导致了另一个行人的抬头，而是因为他们俩都听到上面有雷声，或者开始下雨了，因此，您的研究发现对于一个人的抬头是否会使他人抬头依然没有定论。然而这些情况不适用于随机实验，这是为什么随机实验在因果推理理论中很重要的原因之一。但是，在实践中，随机试验对因果效应估计的重要性受到更大限制。许多科学研究不是实验。人类的许多知识都来自观察研究。Think of evolution, tectonic plates, global warming, or astrophysics. Think of how humans learned that hot coffee may cause burns. This chapter reviews some conditions under which observational studies lead to valid causal inferences. 本章总结观察研究可得出有效因果推断的一些条件。"
   ]
  },
  {
   "cell_type": "markdown",
   "metadata": {
    "Collapsed": "false"
   },
   "source": [
    "## 知识点\n"
   ]
  },
  {
   "cell_type": "markdown",
   "metadata": {
    "Collapsed": "false"
   },
   "source": [
    "An observational study can be conceptualized as a conditionally randomized experiment under the following three conditions:\n",
    "\n",
    "- Well-defined treatment.\n",
    "- The conditional prob of recieving a treatment depends only on the measured covariates.\n",
    "- Positivity.\n",
    "\n",
    "Causal inference from observational data requires two elements: **data and identifiability conditions.**\n",
    "\n",
    "The target trial–or its logical equivalents–is central to the causal inference framework. For each causal effect, we can imagine a (hypothetical) randomized experiment that can quantify it. We refer to that experiment as the target experiment or the target trial."
   ]
  }
 ],
 "metadata": {
  "anaconda-cloud": {},
  "kernelspec": {
   "display_name": "Python 3",
   "language": "python",
   "name": "python3"
  },
  "language_info": {
   "codemirror_mode": {
    "name": "ipython",
    "version": 3
   },
   "file_extension": ".py",
   "mimetype": "text/x-python",
   "name": "python",
   "nbconvert_exporter": "python",
   "pygments_lexer": "ipython3",
   "version": "3.7.4"
  },
  "toc": {
   "base_numbering": 1,
   "nav_menu": {},
   "number_sections": true,
   "sideBar": true,
   "skip_h1_title": false,
   "title_cell": "Table of Contents",
   "title_sidebar": "Contents",
   "toc_cell": false,
   "toc_position": {},
   "toc_section_display": true,
   "toc_window_display": true
  },
  "varInspector": {
   "cols": {
    "lenName": 16,
    "lenType": 16,
    "lenVar": 40
   },
   "kernels_config": {
    "python": {
     "delete_cmd_postfix": "",
     "delete_cmd_prefix": "del ",
     "library": "var_list.py",
     "varRefreshCmd": "print(var_dic_list())"
    },
    "r": {
     "delete_cmd_postfix": ") ",
     "delete_cmd_prefix": "rm(",
     "library": "var_list.r",
     "varRefreshCmd": "cat(var_dic_list()) "
    }
   },
   "types_to_exclude": [
    "module",
    "function",
    "builtin_function_or_method",
    "instance",
    "_Feature"
   ],
   "window_display": false
  }
 },
 "nbformat": 4,
 "nbformat_minor": 4
}
