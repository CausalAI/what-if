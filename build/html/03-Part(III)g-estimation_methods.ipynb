{
 "cells": [
  {
   "cell_type": "markdown",
   "metadata": {
    "Collapsed": "false"
   },
   "source": [
    "# Part III 时间变化干预的 G-估计\n",
    "\n",
    "> 专注于材料的收集和简单的理解。\n",
    "\n",
    "G-estimation of structural nested models is a method of data analysis that allows for estimation of the combined effects of exposures that vary over time in a longitudinal cohort study. 相关的参考资料包括\n",
    "\n",
    "- [Robins教材](https://cdn1.sph.harvard.edu/wp-content/uploads/sites/1268/2019/02/hernanrobins_v3.21.6.pdf)\n",
    "- [HarvardX: PH559x Causal Diagrams: Draw Your Assumptions Before Your Conclusions](https://courses.edx.org/courses/course-v1:HarvardX+PH559x+1T2019/course/)\n",
    "- [An introduction to g methods](https://www.ncbi.nlm.nih.gov/pmc/articles/PMC6074945/)"
   ]
  },
  {
   "cell_type": "markdown",
   "metadata": {
    "Collapsed": "false"
   },
   "source": [
    "## Causal Inference Book by Robins\n",
    "\n",
    "[教材地址](https://cdn1.sph.harvard.edu/wp-content/uploads/sites/1268/2019/02/hernanrobins_v3.21.6.pdf)\n",
    "\n",
    "<img src=\"https://i.loli.net/2019/05/08/5cd2bff2ce2a9.jpg\" alt=\"41557315550_.pic_hd.jpg\" title=\"41557315550_.pic_hd.jpg\" width=500/>"
   ]
  },
  {
   "cell_type": "markdown",
   "metadata": {
    "Collapsed": "false"
   },
   "source": [
    "如上是教材的目录，G-estimation 得到的是一个干预策略的因果效应，**NOT INTERVENTION OF A SINGAL VARIABLE**. "
   ]
  },
  {
   "cell_type": "markdown",
   "metadata": {
    "Collapsed": "false"
   },
   "source": [
    "<img src=\"https://i.loli.net/2019/05/08/5cd2c080d182a.jpg\" alt=\"51557315698_.pic.jpg\" title=\"51557315698_.pic.jpg\" width=300/>"
   ]
  },
  {
   "cell_type": "markdown",
   "metadata": {
    "Collapsed": "false"
   },
   "source": [
    "Figure 19.1 could represent a randomized experiment in which treatment $A_k$ at each time $k$ is randomly assigned with a probability that depends only on prior treatment history. Our HIV study would be represented by Figure 19.1 if, for example, an individual’s treatment value at each month $k$ were randomly assigned with probability 0.5 for individuals who did not receive treatment during the previous month ($A_{k−1} = 0$), and with probability $1$ for individuals who did receive treatment during the previous month  $(A_{k−1} = 1)$. When interested in the contrast of static treatment strategies, Figure 19.1 is the proper generalization of no confounding by measured or unmeasured variables for time-varying treatments."
   ]
  },
  {
   "cell_type": "markdown",
   "metadata": {
    "Collapsed": "false"
   },
   "source": [
    "Figure 19.2 could represent a randomized experiment in which treatment $A_k$ at each time $k$ is randomly assigned by the investigators with a probability that depends on prior treatment and measured covariate history. Our study would be represented by Figure 19.2 if, for example, an individual’s treatment value at each month $k$ were randomly assigned with probability $0.4$ for untreated individuals with high CD4 cell count ($A_{k-1} = 0, L_k = 1$), $0.8$ for untreated individuals with low CD4 cell count ($A_{k-1} = 0, L_k = 0$), and $0.5$ for previously treated individuals, regardless of their CD4 cell count ($A_{k−1} = 1$). In Figure 19.2, there is confounding by measured, but not unmeasured, variables for the time-varying treatment."
   ]
  },
  {
   "cell_type": "markdown",
   "metadata": {
    "Collapsed": "false"
   },
   "source": [
    "Figures 19.1 and 19.2 could represent sequentially randomized experiments. On the other hand, Figure 19.3 cannot represent a randomized experiment. Observational studies represented by Figure 19.3 have unmeasured confounding. Sequentially randomized experiments are not frequently used in practice. However, the concept of sequentially randomized experiment is helpful to understand some key conditions for valid estimation of causal effects of timevarying treatments."
   ]
  },
  {
   "cell_type": "markdown",
   "metadata": {
    "Collapsed": "false"
   },
   "source": [
    "## An introduction to g methods\n",
    "\n",
    "- [An introduction to g methods](https://www.ncbi.nlm.nih.gov/pmc/articles/PMC6074945/)"
   ]
  },
  {
   "cell_type": "markdown",
   "metadata": {
    "Collapsed": "false"
   },
   "source": [
    "***Abstract:*** Robins’ generalized methods (g methods) provide consistent estimates of contrasts (e.g. differences, ratios) of potential outcomes under a less restrictive set of identification conditions than do standard regression methods (e.g. linear, logistic, Cox regression). Uptake of $g$ methods by epidemiologists has been hampered by limitations in understanding both conceptual and technical details. We present a simple worked example that illustrates basic concepts, while minimizing technical complications."
   ]
  },
  {
   "cell_type": "markdown",
   "metadata": {
    "Collapsed": "false"
   },
   "source": [
    "***Key Messages***\n",
    "\n",
    "- G methods include inverse probability weighted marginal structural models, g estimation of a structural nested model, and the g formula.\n",
    "- G methods estimate contrasts of potential outcomes under a less restrictive set of assumptions than standard regression methods.\n",
    "- Inverse probability weighting generates a pseudo-population in which exposures are independent of confounders, enabling estimation of marginal structural model parameters.\n",
    "- G estimation exploits the conditional independence between the exposure and potential outcomes to estimate structural nested model parameters.\n",
    "- The g formula models the joint density of the observed data to generate potential outcomes under different exposure scenarios."
   ]
  },
  {
   "cell_type": "code",
   "execution_count": null,
   "metadata": {
    "Collapsed": "false"
   },
   "outputs": [],
   "source": []
  }
 ],
 "metadata": {
  "kernelspec": {
   "display_name": "Python 3",
   "language": "python",
   "name": "python3"
  },
  "language_info": {
   "codemirror_mode": {
    "name": "ipython",
    "version": 3
   },
   "file_extension": ".py",
   "mimetype": "text/x-python",
   "name": "python",
   "nbconvert_exporter": "python",
   "pygments_lexer": "ipython3",
   "version": "3.7.4"
  },
  "toc": {
   "base_numbering": 1,
   "nav_menu": {},
   "number_sections": true,
   "sideBar": true,
   "skip_h1_title": false,
   "title_cell": "Table of Contents",
   "title_sidebar": "Contents",
   "toc_cell": false,
   "toc_position": {},
   "toc_section_display": true,
   "toc_window_display": true
  }
 },
 "nbformat": 4,
 "nbformat_minor": 4
}
