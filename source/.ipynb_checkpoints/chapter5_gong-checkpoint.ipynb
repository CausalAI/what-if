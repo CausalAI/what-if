{
 "cells": [
  {
   "cell_type": "markdown",
   "metadata": {
    "Collapsed": "false"
   },
   "source": [
    "# Ch5-Interaction\n",
    "\n",
    "\n",
    "When joint interventions on two or more treatments are feasible, the identification of interaction allows one to implement the most effective interventions. Thus understanding the concept of interaction is key for causal inference.\n",
    "\n",
    "- Interaction requires a joint intervention, We refer to interventions on two or more treatments as **joint interventions**.\n",
    "- Identifying interaction. The three key identifying conditions were exchangeability, positivity, and consistency. we say that there is no interaction between $A$ and $E$ on the additive scale when some conditions hold.\n",
    "- Counterfactual response types and interaction. Individuals in the population have different response types. The meaning of the term “interaction” is clarified by the classification of individuals according to their counterfactual response types.\n",
    "- Sufficient causes, a tool to conceptualize the causal mechanisms involved in the interaction between two treatments. This graphical representation of treatments exist in all settings. The graphical representation of sufficient-component causes is often referred to as “the causal pies.”\n",
    "- Sifficient causes interaction. Sufficient cause interactions can be synergistic or antagonistic. 两种同时的治疗才能有疗效。\n",
    "- Counterfactuals or sufficient-component causes? 我们选择 counterfactual framework.\n",
    " "
   ]
  },
  {
   "cell_type": "markdown",
   "metadata": {
    "Collapsed": "false"
   },
   "source": [
    "## 从仰望天空开始\n",
    "\n",
    "\n",
    "\n",
    "再次考虑一项随机实验，以回答因果问题“抬头仰望天空是否也会使其他行人抬头吗？”到目前为止，我们的兴趣仅限于单一治疗（looking up）对整个人群或其中一部分的因果作用。但是，许多因果问题实际上是关于两种或多种同时治疗的效果。例如，假设除了随机分配您的 looking up 之外，我们还随机分配您是穿着衣服还是赤身裸体站在街道上。现在，我们可以提出类似的问题：what is the causal effect of your looking up if you are dressed？And if you are naked？ 如果这两种因果效应不同，我们就说正在考虑的两种治疗方法（look up 和 dressed）在交互的产生结果。"
   ]
  },
  {
   "cell_type": "markdown",
   "metadata": {
    "Collapsed": "false"
   },
   "source": [
    "## More to read\n",
    "\n",
    "更多可以参考的内容。"
   ]
  },
  {
   "cell_type": "code",
   "execution_count": null,
   "metadata": {
    "Collapsed": "false"
   },
   "outputs": [],
   "source": []
  }
 ],
 "metadata": {
  "anaconda-cloud": {},
  "kernelspec": {
   "display_name": "Python 3",
   "language": "python",
   "name": "python3"
  },
  "language_info": {
   "codemirror_mode": {
    "name": "ipython",
    "version": 3
   },
   "file_extension": ".py",
   "mimetype": "text/x-python",
   "name": "python",
   "nbconvert_exporter": "python",
   "pygments_lexer": "ipython3",
   "version": "3.7.4"
  },
  "toc": {
   "base_numbering": 1,
   "nav_menu": {},
   "number_sections": true,
   "sideBar": true,
   "skip_h1_title": false,
   "title_cell": "Table of Contents",
   "title_sidebar": "Contents",
   "toc_cell": false,
   "toc_position": {},
   "toc_section_display": true,
   "toc_window_display": true
  },
  "varInspector": {
   "cols": {
    "lenName": 16,
    "lenType": 16,
    "lenVar": 40
   },
   "kernels_config": {
    "python": {
     "delete_cmd_postfix": "",
     "delete_cmd_prefix": "del ",
     "library": "var_list.py",
     "varRefreshCmd": "print(var_dic_list())"
    },
    "r": {
     "delete_cmd_postfix": ") ",
     "delete_cmd_prefix": "rm(",
     "library": "var_list.r",
     "varRefreshCmd": "cat(var_dic_list()) "
    }
   },
   "types_to_exclude": [
    "module",
    "function",
    "builtin_function_or_method",
    "instance",
    "_Feature"
   ],
   "window_display": false
  }
 },
 "nbformat": 4,
 "nbformat_minor": 4
}
