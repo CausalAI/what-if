{
 "cells": [
  {
   "cell_type": "markdown",
   "metadata": {
    "Collapsed": "false"
   },
   "source": [
    "# 项目简介\n",
    "\n"
   ]
  },
  {
   "cell_type": "markdown",
   "metadata": {
    "Collapsed": "false"
   },
   "source": [
    "本项目是关于因果推断教材 Causal Inference: What If 的编译和解读。\n",
    "\n",
    "- 项目地址：https://github.com/CausalAI/what-if\n",
    "- blog 地址：https://causalai.github.io/what-if\n",
    "- 原书地址: https://www.hsph.harvard.edu/miguel-hernan/causal-inference-book/"
   ]
  },
  {
   "cell_type": "markdown",
   "metadata": {
    "Collapsed": "false"
   },
   "source": [
    "## Motivation\n",
    "\n",
    "\n"
   ]
  },
  {
   "cell_type": "markdown",
   "metadata": {
    "Collapsed": "false"
   },
   "source": [
    "<font size=5> [Causal  AI](https://sites.google.com/view/minituring/home) </font>\n",
    "\n",
    "Judea Pearl 是 Causal AI 的奠基人，Bernhard Scholkopf 推进了 Causality for Machine Learning，Yoshua Bengio 提出了 System 2 deep learning 作为 Causal AI 的一个范式。沉醉于 life and Intelligence 之美，众多工具中（包括数学，计算机，物理，复杂系统等等），偏好用信息论视角研究如何教会机器因果思维，希望创造具备 free will 的 AI，使之成为我们的良师益友，一起探索解密生命和智能的终极奥秘。\n",
    "\n",
    "该书对因果推理的概念和方法进行了全面的介绍。是我们 [Causal  AI](https://sites.google.com/view/minituring/home) 中组成内容。\n",
    "\n",
    "\n",
    "<font size=5> DoWhy | 让因果推断容易 </font>\n",
    "\n",
    "因果推断并不容易，我们希望结合 DoWhy 和本书的理论让 Causal Inference 更加容易。\n",
    "\n",
    "<font size=5> [Pyro|深度通用概率图语言](https://causalai.github.io/pyro_zh_tutorial/) </font> \n",
    "\n",
    "要构建 Benigo 的 System 2 deep learning for Causal AI, 我们需要 Pyro 这个强大的工具。\n",
    "\n"
   ]
  },
  {
   "cell_type": "markdown",
   "metadata": {
    "Collapsed": "false"
   },
   "source": [
    "## 内容概要\n",
    "\n",
    "\n"
   ]
  },
  {
   "cell_type": "markdown",
   "metadata": {
    "Collapsed": "false"
   },
   "source": [
    "本项目的主要内容是：\n",
    "\n",
    "- 翻译教材中的部分内容，按照易懂的方式重新组织，然后加入一些理解和解读。\n",
    "- 使用 DoWhy 来构建本书的代码工作，用 DoWhy 的视角来理解该教材内容。"
   ]
  },
  {
   "cell_type": "markdown",
   "metadata": {
    "Collapsed": "false"
   },
   "source": [
    "注：For simplicity, in this book we do not distinguish between vector and scalar parameters. This is an abuse of notation, but we believe it does not create any confusion"
   ]
  },
  {
   "cell_type": "markdown",
   "metadata": {
    "Collapsed": "false"
   },
   "source": [
    "## Preface of the Book\n",
    "\n",
    "\n",
    "<font size=5> Introduction: Towards Less Causal Causal Inferences </font>\n"
   ]
  },
  {
   "cell_type": "markdown",
   "metadata": {
    "Collapsed": "false"
   },
   "source": [
    "Causal Inference is an admittedly pretentious(过于宏大的) title for a book. 因果推理是一项复杂的科学任务 that relies on triangulating evidence from multiple sources and on the application of a variety of methodological approaches. No book can possibly provide a comprehensive description of methodologies for causal inference across the sciences. 任何因果推理书籍的作者都必须选择他们要强调的因果推理的哪些方面。"
   ]
  },
  {
   "cell_type": "markdown",
   "metadata": {
    "Collapsed": "false"
   },
   "source": [
    "本引言的标题就已经反映了我们自己的选择： a book that helps scientists–especially health and social scientists–generate and analyze data to make causal inferences that are explicit about both the causal question and the assumptions underlying the data analysis.（为什么作出这样一个选择？） Unfortunately, the scientific literature is plagued by studies in which the causal question is not explicitly stated and the investigators’ unverifiable assumptions are not declared. This casual attitude towards causal inference has led to a great deal of confusion. For example, it is not uncommon to find studies in which the effect estimates are hard to interpret because the data analysis methods cannot appropriately answer the causal question (were it explicitly stated) under the investigators’ assumptions (were they declared)."
   ]
  },
  {
   "cell_type": "markdown",
   "metadata": {
    "Collapsed": "false"
   },
   "source": [
    "在这本书中，we stress the need to take the causal question seriously enough to articulate it, and to delineate the separate roles of data and assumptions for causal inference. Once these foundations are in place, causal inferences become necessarily less casual, which helps prevent confusion. The book describes various data analysis approaches that can be used to estimate the causal effect of interest under a particular set of assumptions when data are collected on each individual in a population. 这本书的一个关键信息是，因果推理不能简化为用于数据分析的配方的集合。具体来说，就是像 DoWhy 的设计理念一样，把因果推断分成四个步骤：\n",
    "\n",
    "1. Model a causal inference problem using assumptions.\n",
    "2. Identify an expression for the causal effect under these assumptions (“causal estimand”).\n",
    "3. Estimate the expression using statistical methods such as matching or instrumental variables.\n",
    "4. Finally, verify the validity of the estimate using a variety of robustness checks."
   ]
  },
  {
   "cell_type": "markdown",
   "metadata": {
    "Collapsed": "false"
   },
   "source": [
    "（本书的组织结构）The book is divided in three parts of increasing difficulty: Part I is about causal inference without models (i.e., nonparametric identification of causal ef- fects), Part II is about causal inference with models (i.e., estimation of causal effects with parametric models), and Part III is about causal inference from complex longitudinal data (i.e., estimation of causal effects of time-varying treatments). （我们全书使用 Fine Points 和 Technical points 来附加解释相关内容）Throughout the text, we have interspersed Fine Points and Technical points that elaborate on certain topics mentioned in the main text. Fine Points are designed to be accessible to all readers while Technical Points are designed for readers with intermediate training in statistics. The book provides a cohesive presentation of concepts of, and methods for, causal inference that are currently scattered across journals in several disciplines. （我们的目标读者是：）We expect that the book will be of interest to anyone interested in causal inference, e.g., epidemiologists, statisticians, psychologists, economists, sociologists, political scientists, computer scientists. . ."
   ]
  },
  {
   "cell_type": "markdown",
   "metadata": {
    "Collapsed": "false"
   },
   "source": [
    "（我们考虑哲学上因果有关内容）Importantly, this is not a philosophy book. We remain agnostic about metaphysical concepts like causality and cause. Rather, we focus on the identification and estimation of causal effects in populations, that is, numerical quantities that measure changes in the distribution of an outcome under different interventions. \n",
    "\n",
    "哲学上，mental causation, consciousness prior by Bengio, free will 是重要因果概念。我们强调信息的观点研究因果，两个理由:\n",
    "- (1) the brain is an information processing machine, and \n",
    "- (2) the way we talk about the mental to physical relationship seems similar to the relationship between the abstract content of information and its physical realization.\n",
    "\n",
    "信息传递可以物理世界，但是不需要遵从能量守恒定律。封闭物理系统一定会遵从能量守恒，那么可以反推出信息的本质是开放物理系统（Agents，典型生命就是与外界交换能量和物质的典型）和其所在环境的交互。如果我们把心智和信息内容对应，那么通过信息传递，心智可以对物理世界产生影响。\n",
    "\n",
    "> What is causality as information transfer. \n",
    "\n",
    "Collier himself defines it as the transfer of a particular quantity of information from one state of a system to another. Physical causation is a special case in which physical information instances are transferred from one state of physical system to another. (Collier, 1999, p. 215).\n",
    "\n",
    "更多哲学上因果相关内容请参考 [Free will, Causality and Neuroscience](https://colab.research.google.com/drive/1aF9RsFSwQDo35shL2XOkJZCLxohX5vOa)"
   ]
  },
  {
   "cell_type": "markdown",
   "metadata": {
    "Collapsed": "false"
   },
   "source": [
    "## Resources\n",
    "\n",
    "这里给出相关的资料。"
   ]
  }
 ],
 "metadata": {
  "kernelspec": {
   "display_name": "Python 3",
   "language": "python",
   "name": "python3"
  },
  "language_info": {
   "codemirror_mode": {
    "name": "ipython",
    "version": 3
   },
   "file_extension": ".py",
   "mimetype": "text/x-python",
   "name": "python",
   "nbconvert_exporter": "python",
   "pygments_lexer": "ipython3",
   "version": "3.7.4"
  },
  "toc": {
   "base_numbering": 1,
   "nav_menu": {},
   "number_sections": true,
   "sideBar": true,
   "skip_h1_title": false,
   "title_cell": "Table of Contents",
   "title_sidebar": "Contents",
   "toc_cell": false,
   "toc_position": {},
   "toc_section_display": true,
   "toc_window_display": false
  }
 },
 "nbformat": 4,
 "nbformat_minor": 4
}
