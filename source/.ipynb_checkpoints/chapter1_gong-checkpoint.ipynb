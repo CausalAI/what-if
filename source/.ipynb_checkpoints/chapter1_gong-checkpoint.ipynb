{
 "cells": [
  {
   "cell_type": "markdown",
   "metadata": {
    "Collapsed": "false"
   },
   "source": [
    "# Ch 1: 因果理论相关概念"
   ]
  },
  {
   "cell_type": "markdown",
   "metadata": {
    "Collapsed": "false"
   },
   "source": [
    "By reading this book you are expressing an interest in learning about causal inference. 但是，作为一个人，您早就已经掌握了因果推理的基本概念。 您当然知道什么是因果关系；您清楚了解关联和因果关系之间的区别；并且您一生中都在不断使用这些知识。实际上，如果您不理解这些因果概念，那么您将无法生存足够长的时间来阅读本章，甚至无法学会阅读。 As a toddler you would have jumped right into the swimming pool after observing that those who did so were later able to reach the jam jar. As a teenager, you would have skied down the most dangerous slopes after observing that those who did so were more likely to win the next ski race. As a parent, you would have refused to give antibiotics to your sick child after observing that those children who took their medicines were less likely to be playing in the park the next day."
   ]
  },
  {
   "cell_type": "markdown",
   "metadata": {
    "Collapsed": "false"
   },
   "source": [
    "Since you already understand the definition of causal effect and the difference between association and causation, 因此不要期望从本章获得深入的概念见解。相反，本章的目的是介绍数学符号，以形式化您已经拥有的因果直觉。 确保您可以将因果直觉与此处介绍的数学符号匹配。该符号对于精确定义因果概念是必要的，我们将在整本书中使用它。"
   ]
  },
  {
   "cell_type": "markdown",
   "metadata": {
    "Collapsed": "false"
   },
   "source": [
    "<img src=\"https://i.loli.net/2019/01/08/5c34af4917aa3.jpg\" alt=\"58201546956510_.pic.jpg\" title=\"58201546956510_.pic.jpg\" />"
   ]
  },
  {
   "cell_type": "markdown",
   "metadata": {
    "Collapsed": "false"
   },
   "source": [
    "## 知识要点\n",
    "\n"
   ]
  },
  {
   "cell_type": "markdown",
   "metadata": {
    "Collapsed": "false"
   },
   "source": [
    "本章是关于因果效应的基本概念的定义。\n",
    "\n",
    "- Individual causal effects cannot be identified, that is, cannot be expressed as a function of the observed data, because of missing data. So we want to estimate the average cause effects of the population. \n",
    "\n",
    "\n",
    "- There are 3 ways of measuring causal effect, which is the causal risk difference, risk ratio, and odds ratio.\n",
    "\n",
    "- Sampling variability as a source of random error."
   ]
  }
 ],
 "metadata": {
  "anaconda-cloud": {},
  "kernelspec": {
   "display_name": "Python 3",
   "language": "python",
   "name": "python3"
  },
  "language_info": {
   "codemirror_mode": {
    "name": "ipython",
    "version": 3
   },
   "file_extension": ".py",
   "mimetype": "text/x-python",
   "name": "python",
   "nbconvert_exporter": "python",
   "pygments_lexer": "ipython3",
   "version": "3.7.4"
  },
  "toc": {
   "base_numbering": 1,
   "nav_menu": {},
   "number_sections": true,
   "sideBar": true,
   "skip_h1_title": false,
   "title_cell": "Table of Contents",
   "title_sidebar": "Contents",
   "toc_cell": false,
   "toc_position": {},
   "toc_section_display": true,
   "toc_window_display": true
  },
  "toc-autonumbering": true,
  "varInspector": {
   "cols": {
    "lenName": 16,
    "lenType": 16,
    "lenVar": 40
   },
   "kernels_config": {
    "python": {
     "delete_cmd_postfix": "",
     "delete_cmd_prefix": "del ",
     "library": "var_list.py",
     "varRefreshCmd": "print(var_dic_list())"
    },
    "r": {
     "delete_cmd_postfix": ") ",
     "delete_cmd_prefix": "rm(",
     "library": "var_list.r",
     "varRefreshCmd": "cat(var_dic_list()) "
    }
   },
   "types_to_exclude": [
    "module",
    "function",
    "builtin_function_or_method",
    "instance",
    "_Feature"
   ],
   "window_display": false
  }
 },
 "nbformat": 4,
 "nbformat_minor": 4
}
