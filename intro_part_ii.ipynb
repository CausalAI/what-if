{
 "cells": [
  {
   "cell_type": "markdown",
   "metadata": {},
   "source": [
    "**知识点:** 为了从数据中学习模型并对其进行推理，我们需要 be able to do inference. Pyro 包含 `pyro.do`，这是 Pearl 的 `do`-operator 的实现，用于因果推断。"
   ]
  },
  {
   "cell_type": "markdown",
   "metadata": {},
   "source": [
    "# Pyro 推断简介\n",
    "\n",
    "现代机器学习的许多内容 can be cast as approximate inference and expressed succinctly in a language like Pyro. To motivate the rest of this tutorial, 让我们为一个简单的物理问题建立一个生成模型，以便我们可以使用Pyro的推理机来解决它。但是，我们将首先导入本教程所需的模块：\n"
   ]
  },
  {
   "cell_type": "markdown",
   "metadata": {},
   "source": [
    "Table of Contents\n",
    "\n",
    "- [一个简单例子](#一个简单例子)\n",
    "- [Conditioning](#Conditioning)\n",
    "- [近似推断 with guide](#近似推断)\n",
    "- [参数化随机函数和变分推断](#变分推断)\n"
   ]
  },
  {
   "cell_type": "code",
   "execution_count": 1,
   "metadata": {},
   "outputs": [],
   "source": [
    "import matplotlib.pyplot as plt\n",
    "import numpy as np\n",
    "import torch\n",
    "\n",
    "import pyro\n",
    "import pyro.infer\n",
    "import pyro.optim\n",
    "import pyro.distributions as dist\n",
    "\n",
    "pyro.set_rng_seed(101)"
   ]
  },
  {
   "cell_type": "markdown",
   "metadata": {},
   "source": [
    "## 一个简单例子\n",
    "\n",
    "\n",
    "假设我们试图得到某物的重量，但是我们使用的秤是不可靠的，并且每当我们称量同一物体时会给出稍微变动的读数。我们可以尝试 compensate for this variability by integrating the noisy measurement information with **a guess based on some prior knowledge about the object**, like its density or material properties. The following model encodes this process:\n",
    "\n",
    "$${\\sf weight} \\,  \\sim \\cal {\\sf Normal}({\\mu}, 1) $$\n",
    "\n",
    "这是一个 guess based on some prior knowledge about the weight of the object.\n",
    "\n",
    "$${\\sf measurement} \\, |  {\\sf weight} \\sim {\\sf Normal}({\\sf weight}, 0.75)$$\n",
    "\n",
    "Note that this is a model not only for our belief over weight, but also for the result of taking a measurement of it. 该模型对应于以下随机函数："
   ]
  },
  {
   "cell_type": "code",
   "execution_count": 2,
   "metadata": {},
   "outputs": [],
   "source": [
    "def scale(mu):\n",
    "    weight = pyro.sample(\"weight\", dist.Normal(mu, 1.0))\n",
    "    return pyro.sample(\"measurement\", dist.Normal(weight, 0.75))"
   ]
  },
  {
   "cell_type": "markdown",
   "metadata": {},
   "source": [
    "## Conditioning\n",
    "\n",
    "\n",
    "概率编程的真正威力是 in the ability to condition generative models on observed data and infer the latent factors that might have produced that data. 在Pyro中，we separate the expression of conditioning from its evaluation via inference, 使得我们能够 write a model once and condition it on many different observations. Pyro支持 constraining a model's internal `sample` statements to be equal to a given set of observations."
   ]
  },
  {
   "cell_type": "markdown",
   "metadata": {},
   "source": [
    "再次考虑称重的例子，也就是 `scale`. Suppose we want to sample from the  distribution of `weight` given input `mu = 8.5`, but now we have observed that `measurement = 9.5`. That is, we wish to *infer* the distribution:\n",
    "\n",
    "$$({\\sf weight} \\, | \\, {\\mu = 8.5}, {\\sf measurement} = 9.5) \\sim \\, ? $$\n",
    "\n",
    "Pyro provides the function `pyro.condition` to allow us to constrain the values of sample statements.  `pyro.condition` is a higher-order function that takes a model and a dictionary of observations and returns a new model that has the same input and output signatures but always uses the given values at observed `sample` statements:"
   ]
  },
  {
   "cell_type": "code",
   "execution_count": 3,
   "metadata": {},
   "outputs": [],
   "source": [
    "conditioned_scale = pyro.condition(scale, data={\"measurement\": 9.5})"
   ]
  },
  {
   "cell_type": "markdown",
   "metadata": {},
   "source": [
    "Because it behaves just like an ordinary Python function, conditioning can be deferred or parametrized with Python's `lambda` or `def`:"
   ]
  },
  {
   "cell_type": "code",
   "execution_count": 4,
   "metadata": {},
   "outputs": [],
   "source": [
    "def deferred_conditioned_scale(measurement, mu):\n",
    "    return pyro.condition(scale, data={\"measurement\": measurement})(mu)"
   ]
  },
  {
   "cell_type": "markdown",
   "metadata": {},
   "source": [
    "在某些情况下可能更方便 to pass observations directly to individual `pyro.sample` statements instead of using `pyro.condition`.  The optional `obs` keyword argument is reserved by `pyro.sample` for that purpose:"
   ]
  },
  {
   "cell_type": "code",
   "execution_count": 5,
   "metadata": {},
   "outputs": [],
   "source": [
    "def scale_obs(mu):  # equivalent to conditioned_scale above\n",
    "    weight = pyro.sample(\"weight\", dist.Normal(mu, 1.))\n",
    "     # here we condition on measurement == 9.5\n",
    "    return pyro.sample(\"measurement\", dist.Normal(weight, 0.75), obs=9.5)"
   ]
  },
  {
   "cell_type": "markdown",
   "metadata": {},
   "source": [
    "最后，除了用于合并观察数据的 `pyro.condition` 之外，Pyro还包含 `pyro.do`，这是 Pearl 的 `do`-operator 的实现，用于因果推断，其接口与 `pyro.condition` 相同。`condition` and `do` 可以自由混合和组合，使Pyro成为基于模型的因果推断的强大工具。"
   ]
  },
  {
   "cell_type": "markdown",
   "metadata": {},
   "source": [
    "## 近似推断\n",
    "\n",
    "我们可以进行 Flexible Approximate Inference With Guide Functions.\n",
    "\n",
    "Let's return to `conditioned_scale`.  Now that we have conditioned on an observation of `measurement`, we can use Pyro's approximate inference algorithms to estimate the distribution over `weight` given `guess` and `measurement == data`.  \n",
    "\n",
    "让我们回到 `conditioned_scale`。现在我们 have conditioned on an observation of `measurement`，于是我们可以使用 Pyro 的近似推理算法来 estimate the distribution over `weight` given `mu` and `measurement = data`. "
   ]
  },
  {
   "cell_type": "markdown",
   "metadata": {},
   "source": [
    "Pyro中的推理算法，例如 `pyro.infer.SVI`，允许我们使用任意随机函数，我们将其称为 *guide functions* or *guides*，作为近似后验分布. Guide functions 必须满足以下两个条件才能成为特定模型的有效近似后验分布： \n",
    "\n",
    "1. all unobserved (i.e., not conditioned) sample statements 需要在 model 和 guide 中同时出现。\n",
    "2. model 和 guide 具有相同的 input signature (i.e., takes the same arguments)\n",
    "\n",
    "Guide functions 的作用(或者角色)是：\n",
    "\n",
    "- as programmable, data-dependent proposal distributions 用于 importance sampling, rejection sampling, sequential Monte Carlo, MCMC, and independent Metropolis-Hastings, and \n",
    "- as variational distributions or inference networks 用于随机变分推理。 \n",
    "\n",
    "目前，重要性抽样，MCMC和随机变分推断已在Pyro中实现，我们计划在将来添加其他算法。\n",
    "\n",
    "\n",
    "尽管 guide 的精确含义在不同的推断算法中有所不同，但通常应选择 guide function，使其 principlely 具有足够的灵活性 to closely approximate the distribution over all unobserved `sample`(也就是 not conditioned) statements in the model. "
   ]
  },
  {
   "cell_type": "markdown",
   "metadata": {},
   "source": [
    "In the case of `scale`, `weight` 给定 `mu` 和 `measurement` 的真实后验分布是 $N(9.14, 0.6)$。 (模型非常简单，因此我们可以解析的得到后验分布, for derivation, see for example Section 3.4 of http://www.stat.cmu.edu/~brian/463-663/week09/Chapter%2003.pdf .)\n",
    "\n"
   ]
  },
  {
   "cell_type": "code",
   "execution_count": 6,
   "metadata": {},
   "outputs": [],
   "source": [
    "def perfect_guide(mu):\n",
    "    loc =(0.75**2 * mu + 9.5) / (1 + 0.75**2) # 9.14\n",
    "    scale = np.sqrt(0.75**2/(1 + 0.75**2)) # 0.6\n",
    "    return pyro.sample(\"weight\", dist.Normal(loc, scale))"
   ]
  },
  {
   "cell_type": "markdown",
   "metadata": {},
   "source": [
    "## 变分推断\n",
    "\n",
    "Parametrized Stochastic Functions and Variational Inference\n",
    "\n",
    "尽管我们可以写出 `scale` 的精确后验分布，但是总的来说，指定一个近似于任意条件随机函数的后验分布的 guide 是很困难的。实际上，可以准确确定真实后验的随机函数是例外而不是一般规则。例如，even a version of our `scale` example with a nonlinear function in the middle may be intractable:"
   ]
  },
  {
   "cell_type": "code",
   "execution_count": 7,
   "metadata": {},
   "outputs": [],
   "source": [
    "def intractable_scale(guess):\n",
    "    weight = pyro.sample(\"weight\", dist.Normal(guess, 1.0))\n",
    "    return pyro.sample(\"measurement\", dist.Normal(some_nonlinear_function(weight), 0.75))"
   ]
  },
  {
   "cell_type": "markdown",
   "metadata": {},
   "source": [
    "因此我们的做法是 is use the top-level function `pyro.param` to specify a *family* of guides indexed by named parameters, and search for the member of that family that is the best approximation according to some loss function.  这种近似后验推断的方法称为“变分推断”。\n",
    "\n",
    "\n",
    "`pyro.param` 是  a frontend for Pyro's 键值 *参数存储*(key-value *parameter store*)，, which is described in more detail in the documentation. 像 `pyro.sample` 一样，`pyro.param` 总是以名称作为第一个参数来调用。The first time `pyro.param` is called with a particular name, it stores its argument in the parameter store, 然后返回该值。之后，when it is called with that name, it returns the value from the parameter store regardless of any other arguments. 这里类似于此处的 `simple_param_store.setdefault` , but with some additional tracking and management functionality.\n",
    "\n",
    "\n",
    "```python\n",
    "simple_param_store = {}\n",
    "a = simple_param_store.setdefault(\"a\", torch.randn(1))\n",
    "```\n",
    "\n",
    "For example, we can parametrize `a` and `b` in `scale_posterior_guide` instead of specifying them by hand:"
   ]
  },
  {
   "cell_type": "code",
   "execution_count": 8,
   "metadata": {},
   "outputs": [],
   "source": [
    "def scale_parametrized_guide(mu):\n",
    "    a = pyro.param(\"a\", torch.tensor(mu))\n",
    "    b = pyro.param(\"b\", torch.tensor(1.))\n",
    "    return pyro.sample(\"weight\", dist.Normal(a, torch.abs(b)))"
   ]
  },
  {
   "cell_type": "markdown",
   "metadata": {},
   "source": [
    "As an aside, note that in `scale_parametrized_guide`, we had to apply `torch.abs` to parameter `b` because the standard deviation of a normal distribution has to be positive; similar restrictions also apply to parameters of many other distributions. The PyTorch distributions library, which Pyro is built on, 提供了 [constraints module](https://pytorch.org/docs/master/distributions.html#module-torch.distributions.constraints) 用于实现此类限制, and applying constraints to Pyro parameters is as easy as passing the relevant `constraint` object to `pyro.param`:"
   ]
  },
  {
   "cell_type": "code",
   "execution_count": 9,
   "metadata": {},
   "outputs": [],
   "source": [
    "from torch.distributions import constraints\n",
    "\n",
    "def scale_parametrized_guide_constrained(mu):\n",
    "    a = pyro.param(\"a\", torch.tensor(mu))\n",
    "    b = pyro.param(\"b\", torch.tensor(1.), constraint=constraints.positive)\n",
    "    return pyro.sample(\"weight\", dist.Normal(a, b))  # no more torch.abs"
   ]
  },
  {
   "cell_type": "markdown",
   "metadata": {},
   "source": [
    "Pyro is built to enable *stochastic variational inference*, a powerful and widely applicable class of variational inference algorithms with 三个关键特征: \n",
    "\n",
    "1. 参数始终是实数值张量\n",
    "2. We compute Monte Carlo estimates of 损失函数 from samples of execution histories of the model and guide\n",
    "3. 我们使用随机梯度下降法搜索最佳参数。 \n",
    "\n",
    "将随机梯度下降与PyTorch的GPU加速张量数学和自动微分相结合 allows us to scale variational inference to very high-dimensional parameter spaces and massive datasets.  \n",
    "\n",
    "Pyro's SVI functionality is described in detail in the [SVI tutorial](svi_part_i.ipynb). Here is a very simple example applying it to `scale`:"
   ]
  },
  {
   "cell_type": "code",
   "execution_count": 10,
   "metadata": {},
   "outputs": [
    {
     "name": "stdout",
     "output_type": "stream",
     "text": [
      "a =  9.107474327087402\n",
      "b =  0.6285384893417358\n"
     ]
    },
    {
     "data": {
      "image/png": "[encoded data removed]",
      "text/plain": [
       "<Figure size 432x288 with 1 Axes>"
      ]
     },
     "metadata": {
      "needs_background": "light"
     },
     "output_type": "display_data"
    }
   ],
   "source": [
    "import matplotlib.pyplot as plt\n",
    "import numpy as np\n",
    "import torch\n",
    "\n",
    "import pyro\n",
    "import pyro.infer\n",
    "import pyro.optim\n",
    "import pyro.distributions as dist\n",
    "\n",
    "pyro.set_rng_seed(101)\n",
    "\n",
    "mu = 8.5\n",
    "\n",
    "def scale(mu):\n",
    "    weight = pyro.sample(\"weight\", dist.Normal(mu, 1.0))\n",
    "    return pyro.sample(\"measurement\", dist.Normal(weight, 0.75))\n",
    "\n",
    "conditioned_scale = pyro.condition(scale, data={\"measurement\": 9.5})\n",
    "\n",
    "def scale_parametrized_guide(mu):\n",
    "    a = pyro.param(\"a\", torch.tensor(mu))\n",
    "    b = pyro.param(\"b\", torch.tensor(1.))\n",
    "    return pyro.sample(\"weight\", dist.Normal(a, torch.abs(b)))\n",
    "\n",
    "pyro.clear_param_store()\n",
    "svi = pyro.infer.SVI(model=conditioned_scale, \n",
    "                     guide=scale_parametrized_guide,\n",
    "                     optim=pyro.optim.SGD({\"lr\": 0.001, \"momentum\":0.1}),\n",
    "                     loss=pyro.infer.Trace_ELBO())\n",
    "\n",
    "\n",
    "losses, a,b  = [], [], []\n",
    "num_steps = 2500\n",
    "for t in range(num_steps):\n",
    "    losses.append(svi.step(mu))\n",
    "    a.append(pyro.param(\"a\").item())\n",
    "    b.append(pyro.param(\"b\").item())\n",
    "    \n",
    "plt.plot(losses)\n",
    "plt.title(\"ELBO\")\n",
    "plt.xlabel(\"step\")\n",
    "plt.ylabel(\"loss\");\n",
    "print('a = ',pyro.param(\"a\").item())\n",
    "print('b = ', pyro.param(\"b\").item())"
   ]
  },
  {
   "cell_type": "code",
   "execution_count": 11,
   "metadata": {},
   "outputs": [
    {
     "data": {
      "image/png": "[encoded data removed]",
      "text/plain": [
       "<Figure size 432x288 with 2 Axes>"
      ]
     },
     "metadata": {
      "needs_background": "light"
     },
     "output_type": "display_data"
    }
   ],
   "source": [
    "plt.subplot(1,2,1)\n",
    "plt.plot([0,num_steps],[9.14,9.14], 'k:')\n",
    "plt.plot(a)\n",
    "plt.ylabel('a')\n",
    "\n",
    "plt.subplot(1,2,2)\n",
    "plt.ylabel('b')\n",
    "plt.plot([0,num_steps],[0.6,0.6], 'k:')\n",
    "plt.plot(b)\n",
    "plt.tight_layout()"
   ]
  },
  {
   "cell_type": "markdown",
   "metadata": {},
   "source": [
    "**注意，SVI获得的参数非常接近 true parameters of the desired conditional distribution. This is to be expected as our guide is from the same family.**\n",
    "\n",
    "\n",
    "Note that optimization will update the values of the guide parameters in the parameter store, so that once we find good parameter values, 我们可以将 guide 的样本作为后验样本用于后续任务.\n",
    "\n",
    "\n"
   ]
  },
  {
   "cell_type": "markdown",
   "metadata": {},
   "source": [
    "## 下一步？\n",
    "\n",
    "在 [Variational Autoencoder tutorial](vae.ipynb) 中，我们将会看到 how models like `scale` can be augmented with deep neural networks and use stochastic variational inference to 建立图像生成模型."
   ]
  }
 ],
 "metadata": {
  "kernelspec": {
   "display_name": "Python 3",
   "language": "python",
   "name": "python3"
  },
  "language_info": {
   "codemirror_mode": {
    "name": "ipython",
    "version": 3
   },
   "file_extension": ".py",
   "mimetype": "text/x-python",
   "name": "python",
   "nbconvert_exporter": "python",
   "pygments_lexer": "ipython3",
   "version": "3.7.4"
  },
  "toc": {
   "base_numbering": 1,
   "nav_menu": {},
   "number_sections": true,
   "sideBar": true,
   "skip_h1_title": false,
   "title_cell": "Table of Contents",
   "title_sidebar": "Contents",
   "toc_cell": false,
   "toc_position": {},
   "toc_section_display": true,
   "toc_window_display": true
  }
 },
 "nbformat": 4,
 "nbformat_minor": 2
}
